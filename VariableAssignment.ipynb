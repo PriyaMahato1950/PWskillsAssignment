{
 "cells": [
  {
   "cell_type": "markdown",
   "id": "15634c22-3ac9-4f4f-abde-86258aa5f0b1",
   "metadata": {},
   "source": [
    "ANS 1. The conventions that are being followed while declaring a variable are:\n",
    "a) Variables can be declared only by combination of alphabets (both uppercase & lowercase), numbers ,and underscore (in special characters).\n",
    "b) Variable declaration cannot begin with a number or special characters (except underscore).\n",
    "c) Keywords cannot be used for declaring a variable."
   ]
  },
  {
   "cell_type": "markdown",
   "id": "7e5fdd11-ffca-433d-bb5b-1d1ad930946b",
   "metadata": {},
   "source": [
    "ANS 2. If we declare a restricted keyword as a variable in python , variable declaration will not take place in python."
   ]
  },
  {
   "cell_type": "markdown",
   "id": "58bc9782-61e1-4776-a23a-02243b4afc9c",
   "metadata": {},
   "source": [
    "ANS 3. A string can be declared as a variable name only if the string contains a single word in it."
   ]
  },
  {
   "cell_type": "markdown",
   "id": "e00da1a8-0f11-4fdd-ac6c-38d85e1876a3",
   "metadata": {},
   "source": [
    "ANS 4. \"_\" cannot be declared as a variable."
   ]
  },
  {
   "cell_type": "markdown",
   "id": "fc61cc85-e412-4ea6-b873-48c15f74fc99",
   "metadata": {},
   "source": [
    "ANS 5. Consider the following example:\n",
    "a = 10\n",
    "if a < 20:\n",
    "   a += 1\n",
    "print(a)\n",
    "\n",
    "Output:\n",
    "a = 11\n",
    "\n",
    "This shows that the variable 'a' is dynamic in nature."
   ]
  }
 ],
 "metadata": {
  "kernelspec": {
   "display_name": "Python 3 (ipykernel)",
   "language": "python",
   "name": "python3"
  },
  "language_info": {
   "codemirror_mode": {
    "name": "ipython",
    "version": 3
   },
   "file_extension": ".py",
   "mimetype": "text/x-python",
   "name": "python",
   "nbconvert_exporter": "python",
   "pygments_lexer": "ipython3",
   "version": "3.10.8"
  }
 },
 "nbformat": 4,
 "nbformat_minor": 5
}
