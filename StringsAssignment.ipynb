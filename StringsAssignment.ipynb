{
 "cells": [
  {
   "cell_type": "markdown",
   "id": "ea558a3e-0ff2-439a-b5f3-2c5bf9a76eff",
   "metadata": {},
   "source": [
    "ANS 1. We can store a single quote (') as a string in a variable within double quotes (\" \") or single quotes (' ')."
   ]
  },
  {
   "cell_type": "markdown",
   "id": "1a46c82c-adfd-4acb-a980-1df52d7fe257",
   "metadata": {},
   "source": [
    "ANS 2. In x = 'a' , x is both string and character type variable as both strings and characters are declared with single quotes."
   ]
  },
  {
   "cell_type": "markdown",
   "id": "2f024fc1-9279-42c8-9bb5-62a86f5e1e17",
   "metadata": {},
   "source": [
    "ANS 3. X = 'Welcome to Python foundation course'\n",
    "a)find()\n",
    "X.find('Welcome')\n",
    "Output:\n",
    "0\n",
    "\n",
    "b)count()\n",
    "X.count('e')\n",
    "Output:\n",
    "3\n",
    "\n",
    "c)len()\n",
    "len(X)\n",
    "Output:\n",
    "35\n",
    "\n",
    "d)concatenation\n",
    "concatenation is not possible here as no second string is p\n",
    "\n"
   ]
  },
  {
   "cell_type": "markdown",
   "id": "bd9dde98-971f-435c-893b-fdbefced8dac",
   "metadata": {},
   "source": [
    "ANS 4. a)4  b)2  c)5"
   ]
  },
  {
   "cell_type": "markdown",
   "id": "1c8286f3-08a5-4524-bebf-29dd805396de",
   "metadata": {},
   "source": [
    "ANS 5. The required code is :-\n",
    "x = 233\n",
    "print(type(x))\n",
    "y = str(x)\n",
    "print(type(y))\n"
   ]
  }
 ],
 "metadata": {
  "kernelspec": {
   "display_name": "Python 3 (ipykernel)",
   "language": "python",
   "name": "python3"
  },
  "language_info": {
   "codemirror_mode": {
    "name": "ipython",
    "version": 3
   },
   "file_extension": ".py",
   "mimetype": "text/x-python",
   "name": "python",
   "nbconvert_exporter": "python",
   "pygments_lexer": "ipython3",
   "version": "3.10.8"
  }
 },
 "nbformat": 4,
 "nbformat_minor": 5
}
